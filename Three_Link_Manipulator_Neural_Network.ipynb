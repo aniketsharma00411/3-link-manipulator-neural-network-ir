{
  "nbformat": 4,
  "nbformat_minor": 0,
  "metadata": {
    "colab": {
      "name": "Three Link Manipulator Neural Network.ipynb",
      "provenance": [],
      "collapsed_sections": []
    },
    "kernelspec": {
      "name": "python3",
      "display_name": "Python 3"
    },
    "language_info": {
      "name": "python"
    }
  },
  "cells": [
    {
      "cell_type": "code",
      "metadata": {
        "id": "r6qcMOPTtnoz"
      },
      "source": [
        "import pandas as pd\n",
        "import math\n",
        "import random\n",
        "import matplotlib.pyplot as plt\n",
        "from sklearn.model_selection import train_test_split\n",
        "from keras import models\n",
        "from keras import layers\n",
        "from keras import regularizers\n",
        "import numpy as np"
      ],
      "execution_count": 1,
      "outputs": []
    },
    {
      "cell_type": "code",
      "metadata": {
        "id": "YoIGLO5btwCf"
      },
      "source": [
        "l1 = l2 = l3 = 7"
      ],
      "execution_count": 2,
      "outputs": []
    },
    {
      "cell_type": "code",
      "metadata": {
        "id": "m6s6RXWWty6Z"
      },
      "source": [
        "## Generating dataset for training\n",
        "\n",
        "def three_link_manipulator_dataset():\n",
        "    rows = []\n",
        "    for i in range(1, 100000):\n",
        "        theta1 = round(random.uniform(0, math.pi), 2)\n",
        "        theta2 = round(random.uniform(-math.pi, 0), 2)\n",
        "        theta3 = round(random.uniform(-math.pi/2, math.pi/2), 2)\n",
        "        \n",
        "        x = round(l1*math.cos(theta1)+l2*math.cos(theta1+theta2)+l3*math.cos(theta1+theta2+theta3), 2)\n",
        "        y = round(l1*math.sin(theta1)+l2*math.sin(theta1+theta2)+l3*math.sin(theta1+theta2+theta3), 2)\n",
        "        phi = round(math.degrees(theta1)+math.degrees(theta2)+math.degrees(theta3), 2)\n",
        "        \n",
        "        rows.append([theta1, theta2, theta3, x, y, phi])\n",
        "\n",
        "    df = pd.DataFrame(rows, columns=['theta1', 'theta2', 'theta3', 'x', 'y', 'phi'])\n",
        "    df.to_csv('three_link.csv', index=False)\n",
        "    \n",
        "three_link_manipulator_dataset()"
      ],
      "execution_count": 3,
      "outputs": []
    },
    {
      "cell_type": "code",
      "metadata": {
        "colab": {
          "base_uri": "https://localhost:8080/",
          "height": 206
        },
        "id": "fez0urRXvAUY",
        "outputId": "b00b1eee-674d-46ba-a170-580be05a6a63"
      },
      "source": [
        "three_link_data = pd.read_csv('three_link.csv')\n",
        "three_link_data.head()"
      ],
      "execution_count": 4,
      "outputs": [
        {
          "output_type": "execute_result",
          "data": {
            "text/html": [
              "<div>\n",
              "<style scoped>\n",
              "    .dataframe tbody tr th:only-of-type {\n",
              "        vertical-align: middle;\n",
              "    }\n",
              "\n",
              "    .dataframe tbody tr th {\n",
              "        vertical-align: top;\n",
              "    }\n",
              "\n",
              "    .dataframe thead th {\n",
              "        text-align: right;\n",
              "    }\n",
              "</style>\n",
              "<table border=\"1\" class=\"dataframe\">\n",
              "  <thead>\n",
              "    <tr style=\"text-align: right;\">\n",
              "      <th></th>\n",
              "      <th>theta1</th>\n",
              "      <th>theta2</th>\n",
              "      <th>theta3</th>\n",
              "      <th>x</th>\n",
              "      <th>y</th>\n",
              "      <th>phi</th>\n",
              "    </tr>\n",
              "  </thead>\n",
              "  <tbody>\n",
              "    <tr>\n",
              "      <th>0</th>\n",
              "      <td>0.01</td>\n",
              "      <td>-1.26</td>\n",
              "      <td>-1.51</td>\n",
              "      <td>2.71</td>\n",
              "      <td>-9.18</td>\n",
              "      <td>-158.14</td>\n",
              "    </tr>\n",
              "    <tr>\n",
              "      <th>1</th>\n",
              "      <td>1.31</td>\n",
              "      <td>-0.25</td>\n",
              "      <td>-1.42</td>\n",
              "      <td>11.78</td>\n",
              "      <td>10.40</td>\n",
              "      <td>-20.63</td>\n",
              "    </tr>\n",
              "    <tr>\n",
              "      <th>2</th>\n",
              "      <td>0.38</td>\n",
              "      <td>-2.86</td>\n",
              "      <td>-0.36</td>\n",
              "      <td>-5.71</td>\n",
              "      <td>-3.78</td>\n",
              "      <td>-162.72</td>\n",
              "    </tr>\n",
              "    <tr>\n",
              "      <th>3</th>\n",
              "      <td>1.85</td>\n",
              "      <td>-0.88</td>\n",
              "      <td>-0.69</td>\n",
              "      <td>8.76</td>\n",
              "      <td>14.44</td>\n",
              "      <td>16.04</td>\n",
              "    </tr>\n",
              "    <tr>\n",
              "      <th>4</th>\n",
              "      <td>0.72</td>\n",
              "      <td>-0.00</td>\n",
              "      <td>-0.87</td>\n",
              "      <td>17.45</td>\n",
              "      <td>8.19</td>\n",
              "      <td>-8.59</td>\n",
              "    </tr>\n",
              "  </tbody>\n",
              "</table>\n",
              "</div>"
            ],
            "text/plain": [
              "   theta1  theta2  theta3      x      y     phi\n",
              "0    0.01   -1.26   -1.51   2.71  -9.18 -158.14\n",
              "1    1.31   -0.25   -1.42  11.78  10.40  -20.63\n",
              "2    0.38   -2.86   -0.36  -5.71  -3.78 -162.72\n",
              "3    1.85   -0.88   -0.69   8.76  14.44   16.04\n",
              "4    0.72   -0.00   -0.87  17.45   8.19   -8.59"
            ]
          },
          "metadata": {
            "tags": []
          },
          "execution_count": 4
        }
      ]
    },
    {
      "cell_type": "code",
      "metadata": {
        "colab": {
          "base_uri": "https://localhost:8080/",
          "height": 265
        },
        "id": "2IrLG00Yv0wE",
        "outputId": "bf169e12-2e06-4ca4-f732-4b5975b0f11f"
      },
      "source": [
        "plt.scatter(three_link_data['x'], three_link_data['y'])\n",
        "plt.show()"
      ],
      "execution_count": 5,
      "outputs": [
        {
          "output_type": "display_data",
          "data": {
            "image/png": "[encoded data removed]",
            "text/plain": [
              "<Figure size 432x288 with 1 Axes>"
            ]
          },
          "metadata": {
            "tags": [],
            "needs_background": "light"
          }
        }
      ]
    },
    {
      "cell_type": "code",
      "metadata": {
        "id": "KO6P3XbEwAuN"
      },
      "source": [
        "# Splitting training and testing dataset\n",
        "\n",
        "X = three_link_data[['x', 'y', 'phi']]\n",
        "y = three_link_data[['theta1', 'theta2', 'theta3']]\n",
        "train_X, test_X, train_y, test_y = train_test_split(X, y, test_size=0.1)"
      ],
      "execution_count": 6,
      "outputs": []
    },
    {
      "cell_type": "code",
      "metadata": {
        "colab": {
          "base_uri": "https://localhost:8080/"
        },
        "id": "2Wzk57fAwclO",
        "outputId": "726b0d74-9337-410b-b9f6-0c0a5608ef85"
      },
      "source": [
        "# Defining model\n",
        "\n",
        "model = models.Sequential()\n",
        "model.add(layers.Dense(units=3, input_dim=3, kernel_initializer='uniform'))\n",
        "model.add(layers.Dense(units=100, kernel_initializer='uniform', activation='relu'))\n",
        "model.add(layers.Dense(units=100, kernel_initializer='uniform', activation='relu'))\n",
        "model.add(layers.Dense(units=3, kernel_initializer = 'uniform', activation='linear'))\n",
        "\n",
        "model.summary()"
      ],
      "execution_count": 7,
      "outputs": [
        {
          "output_type": "stream",
          "text": [
            "Model: \"sequential\"\n",
            "_________________________________________________________________\n",
            "Layer (type)                 Output Shape              Param #   \n",
            "=================================================================\n",
            "dense (Dense)                (None, 3)                 12        \n",
            "_________________________________________________________________\n",
            "dense_1 (Dense)              (None, 100)               400       \n",
            "_________________________________________________________________\n",
            "dense_2 (Dense)              (None, 100)               10100     \n",
            "_________________________________________________________________\n",
            "dense_3 (Dense)              (None, 3)                 303       \n",
            "=================================================================\n",
            "Total params: 10,815\n",
            "Trainable params: 10,815\n",
            "Non-trainable params: 0\n",
            "_________________________________________________________________\n"
          ],
          "name": "stdout"
        }
      ]
    },
    {
      "cell_type": "code",
      "metadata": {
        "id": "lb6iUoZ1wfig"
      },
      "source": [
        "model.compile(optimizer='adam', loss='mean_squared_error', metrics=['accuracy'])"
      ],
      "execution_count": 8,
      "outputs": []
    },
    {
      "cell_type": "code",
      "metadata": {
        "colab": {
          "base_uri": "https://localhost:8080/"
        },
        "id": "9tppCEP7wf_S",
        "outputId": "9f65af73-2df3-4e46-f8bc-c8a787a09808"
      },
      "source": [
        "# Training model\n",
        "\n",
        "history = model.fit(train_X, train_y, epochs=30, validation_split=0.1, shuffle=True)"
      ],
      "execution_count": 9,
      "outputs": [
        {
          "output_type": "stream",
          "text": [
            "Epoch 1/30\n",
            "2532/2532 [==============================] - 5s 2ms/step - loss: 0.4425 - accuracy: 0.9053 - val_loss: 0.0535 - val_accuracy: 0.9599\n",
            "Epoch 2/30\n",
            "2532/2532 [==============================] - 4s 2ms/step - loss: 0.0372 - accuracy: 0.9635 - val_loss: 0.0309 - val_accuracy: 0.9700\n",
            "Epoch 3/30\n",
            "2532/2532 [==============================] - 4s 2ms/step - loss: 0.0292 - accuracy: 0.9672 - val_loss: 0.0246 - val_accuracy: 0.9730\n",
            "Epoch 4/30\n",
            "2532/2532 [==============================] - 4s 2ms/step - loss: 0.0250 - accuracy: 0.9703 - val_loss: 0.0245 - val_accuracy: 0.9774\n",
            "Epoch 5/30\n",
            "2532/2532 [==============================] - 4s 2ms/step - loss: 0.0215 - accuracy: 0.9738 - val_loss: 0.0273 - val_accuracy: 0.9732\n",
            "Epoch 6/30\n",
            "2532/2532 [==============================] - 5s 2ms/step - loss: 0.0209 - accuracy: 0.9734 - val_loss: 0.0185 - val_accuracy: 0.9797\n",
            "Epoch 7/30\n",
            "2532/2532 [==============================] - 5s 2ms/step - loss: 0.0194 - accuracy: 0.9756 - val_loss: 0.0160 - val_accuracy: 0.9687\n",
            "Epoch 8/30\n",
            "2532/2532 [==============================] - 4s 2ms/step - loss: 0.0179 - accuracy: 0.9771 - val_loss: 0.0186 - val_accuracy: 0.9770\n",
            "Epoch 9/30\n",
            "2532/2532 [==============================] - 5s 2ms/step - loss: 0.0177 - accuracy: 0.9765 - val_loss: 0.0276 - val_accuracy: 0.9794\n",
            "Epoch 10/30\n",
            "2532/2532 [==============================] - 4s 2ms/step - loss: 0.0163 - accuracy: 0.9768 - val_loss: 0.0267 - val_accuracy: 0.9551\n",
            "Epoch 11/30\n",
            "2532/2532 [==============================] - 4s 2ms/step - loss: 0.0160 - accuracy: 0.9783 - val_loss: 0.0162 - val_accuracy: 0.9763\n",
            "Epoch 12/30\n",
            "2532/2532 [==============================] - 4s 2ms/step - loss: 0.0156 - accuracy: 0.9781 - val_loss: 0.0380 - val_accuracy: 0.9680\n",
            "Epoch 13/30\n",
            "2532/2532 [==============================] - 4s 2ms/step - loss: 0.0154 - accuracy: 0.9800 - val_loss: 0.0173 - val_accuracy: 0.9688\n",
            "Epoch 14/30\n",
            "2532/2532 [==============================] - 4s 2ms/step - loss: 0.0150 - accuracy: 0.9792 - val_loss: 0.0170 - val_accuracy: 0.9746\n",
            "Epoch 15/30\n",
            "2532/2532 [==============================] - 4s 2ms/step - loss: 0.0136 - accuracy: 0.9800 - val_loss: 0.0102 - val_accuracy: 0.9844\n",
            "Epoch 16/30\n",
            "2532/2532 [==============================] - 4s 2ms/step - loss: 0.0135 - accuracy: 0.9809 - val_loss: 0.0136 - val_accuracy: 0.9822\n",
            "Epoch 17/30\n",
            "2532/2532 [==============================] - 4s 2ms/step - loss: 0.0138 - accuracy: 0.9805 - val_loss: 0.0204 - val_accuracy: 0.9840\n",
            "Epoch 18/30\n",
            "2532/2532 [==============================] - 4s 2ms/step - loss: 0.0138 - accuracy: 0.9815 - val_loss: 0.0142 - val_accuracy: 0.9723\n",
            "Epoch 19/30\n",
            "2532/2532 [==============================] - 4s 2ms/step - loss: 0.0139 - accuracy: 0.9811 - val_loss: 0.0120 - val_accuracy: 0.9819\n",
            "Epoch 20/30\n",
            "2532/2532 [==============================] - 4s 2ms/step - loss: 0.0129 - accuracy: 0.9816 - val_loss: 0.0096 - val_accuracy: 0.9841\n",
            "Epoch 21/30\n",
            "2532/2532 [==============================] - 4s 2ms/step - loss: 0.0128 - accuracy: 0.9815 - val_loss: 0.0178 - val_accuracy: 0.9800\n",
            "Epoch 22/30\n",
            "2532/2532 [==============================] - 4s 2ms/step - loss: 0.0128 - accuracy: 0.9823 - val_loss: 0.0126 - val_accuracy: 0.9859\n",
            "Epoch 23/30\n",
            "2532/2532 [==============================] - 4s 2ms/step - loss: 0.0132 - accuracy: 0.9817 - val_loss: 0.0118 - val_accuracy: 0.9766\n",
            "Epoch 24/30\n",
            "2532/2532 [==============================] - 4s 2ms/step - loss: 0.0123 - accuracy: 0.9832 - val_loss: 0.0139 - val_accuracy: 0.9802\n",
            "Epoch 25/30\n",
            "2532/2532 [==============================] - 4s 2ms/step - loss: 0.0129 - accuracy: 0.9823 - val_loss: 0.0127 - val_accuracy: 0.9843\n",
            "Epoch 26/30\n",
            "2532/2532 [==============================] - 4s 2ms/step - loss: 0.0122 - accuracy: 0.9825 - val_loss: 0.0100 - val_accuracy: 0.9839\n",
            "Epoch 27/30\n",
            "2532/2532 [==============================] - 4s 2ms/step - loss: 0.0117 - accuracy: 0.9837 - val_loss: 0.0130 - val_accuracy: 0.9717\n",
            "Epoch 28/30\n",
            "2532/2532 [==============================] - 4s 2ms/step - loss: 0.0116 - accuracy: 0.9834 - val_loss: 0.0087 - val_accuracy: 0.9809\n",
            "Epoch 29/30\n",
            "2532/2532 [==============================] - 4s 2ms/step - loss: 0.0112 - accuracy: 0.9832 - val_loss: 0.0114 - val_accuracy: 0.9867\n",
            "Epoch 30/30\n",
            "2532/2532 [==============================] - 4s 2ms/step - loss: 0.0109 - accuracy: 0.9836 - val_loss: 0.0142 - val_accuracy: 0.9813\n"
          ],
          "name": "stdout"
        }
      ]
    },
    {
      "cell_type": "code",
      "metadata": {
        "colab": {
          "base_uri": "https://localhost:8080/",
          "height": 295
        },
        "id": "hvV1Rakyx0r4",
        "outputId": "e26bb11f-cbab-4c79-9c72-3cf019d967d8"
      },
      "source": [
        "# Plotting model accuracy\n",
        "\n",
        "plt.plot(history.history['accuracy'])\n",
        "plt.plot(history.history['val_accuracy'])\n",
        "plt.title('model accuracy')\n",
        "plt.ylabel('accuracy')\n",
        "plt.xlabel('epoch')\n",
        "plt.legend(['train', 'val'], loc='upper left')\n",
        "plt.show()"
      ],
      "execution_count": 10,
      "outputs": [
        {
          "output_type": "display_data",
          "data": {
            "image/png": "[encoded data removed]",
            "text/plain": [
              "<Figure size 432x288 with 1 Axes>"
            ]
          },
          "metadata": {
            "tags": [],
            "needs_background": "light"
          }
        }
      ]
    },
    {
      "cell_type": "code",
      "metadata": {
        "colab": {
          "base_uri": "https://localhost:8080/",
          "height": 295
        },
        "id": "DD6BtOJNx8VP",
        "outputId": "81eba401-71a8-487f-e9ac-16f39ed39997"
      },
      "source": [
        "# Plotting model loss\n",
        "\n",
        "plt.plot(history.history['loss'])\n",
        "plt.plot(history.history['val_loss'])\n",
        "plt.title('model loss')\n",
        "plt.ylabel('loss')\n",
        "plt.xlabel('epoch')\n",
        "plt.legend(['train', 'val'], loc='upper left')\n",
        "plt.show()"
      ],
      "execution_count": 11,
      "outputs": [
        {
          "output_type": "display_data",
          "data": {
            "image/png": "[encoded data removed]",
            "text/plain": [
              "<Figure size 432x288 with 1 Axes>"
            ]
          },
          "metadata": {
            "tags": [],
            "needs_background": "light"
          }
        }
      ]
    },
    {
      "cell_type": "code",
      "metadata": {
        "colab": {
          "base_uri": "https://localhost:8080/"
        },
        "id": "oaDKwajiyEOX",
        "outputId": "3655cafb-3168-427d-f508-547eb9c76df8"
      },
      "source": [
        "# Evaluating the model on test set\n",
        "\n",
        "test_loss, test_acc = model.evaluate(test_X, test_y)\n",
        "\n",
        "print('\\nTesting Loss = ', test_loss) \n",
        "print('Testing Accuracy = ', test_acc)"
      ],
      "execution_count": 12,
      "outputs": [
        {
          "output_type": "stream",
          "text": [
            "313/313 [==============================] - 0s 985us/step - loss: 0.0130 - accuracy: 0.9822\n",
            "\n",
            "Testing Loss =  0.013016685843467712\n",
            "Testing Accuracy =  0.982200026512146\n"
          ],
          "name": "stdout"
        }
      ]
    },
    {
      "cell_type": "code",
      "metadata": {
        "id": "Yc_xQ4zWyaB0"
      },
      "source": [
        "!pip install -q ann_visualizer\n",
        "\n",
        "from ann_visualizer.visualize import ann_viz;\n",
        "ann_viz(model, title=\"3-link manipulator neural network\")"
      ],
      "execution_count": 13,
      "outputs": []
    },
    {
      "cell_type": "code",
      "metadata": {
        "id": "b6CD4M7Zyhvx"
      },
      "source": [
        "def iiitm_dataset():\n",
        "    rows = []\n",
        "\n",
        "    # for I\n",
        "    arr = np.linspace(5, 7, 100)\n",
        "    for y in arr:\n",
        "        x = 6\n",
        "        theta = math.degrees(math.atan(y/x))\n",
        "        rows.append([x, y, theta])\n",
        "\n",
        "    # for I\n",
        "    arr = np.linspace(5, 7, 100)\n",
        "    for y in arr:\n",
        "        x = 7\n",
        "        theta = math.degrees(math.atan(y/x))\n",
        "        rows.append([x, y, theta])\n",
        "\n",
        "    # for I\n",
        "    arr = np.linspace(5, 7, 100)\n",
        "    for y in arr:\n",
        "        x = 8\n",
        "        theta = math.degrees(math.atan(y/x))\n",
        "        rows.append([x, y, theta])\n",
        "\n",
        "    # for T\n",
        "    arr = np.linspace(8.5, 10.5, 100)\n",
        "    for x in arr:\n",
        "        y = 7\n",
        "        theta = math.degrees(math.atan(y/x))\n",
        "        rows.append([x, y, theta])\n",
        "\n",
        "    arr = np.linspace(5, 7, 100)\n",
        "    for y in arr:\n",
        "        x = 9.5\n",
        "        theta = math.degrees(math.atan(y/x))\n",
        "        rows.append([x, y, theta])\n",
        "\n",
        "    # for M\n",
        "    arr = np.linspace(5, 7, 100)\n",
        "    for y in arr:\n",
        "        x = 11\n",
        "        theta = math.degrees(math.atan(y/x))\n",
        "        rows.append([x, y, theta])\n",
        "\n",
        "    arr = np.linspace(5, 7, 100)\n",
        "    for y in arr:\n",
        "        x = ((-y)+29)/2\n",
        "        theta = math.degrees(math.atan(y/x))\n",
        "        rows.append([x, y, theta])\n",
        "\n",
        "    arr = np.linspace(5, 7, 100)\n",
        "    for y in arr:\n",
        "        x = ((y)+19)/2\n",
        "        theta = math.degrees(math.atan(y/x))\n",
        "        rows.append([x, y, theta])\n",
        "\n",
        "    arr = np.linspace(5, 7, 100)\n",
        "    for y in arr:\n",
        "        x = 13\n",
        "        theta = math.degrees(math.atan(y/x))\n",
        "        rows.append([x, y, theta])\n",
        "\n",
        "    df = pd.DataFrame(rows, columns=['x', 'y', 'theta'])\n",
        "    df.to_csv('iiitm.csv', index=False)\n",
        "    \n",
        "iiitm_dataset()"
      ],
      "execution_count": 14,
      "outputs": []
    },
    {
      "cell_type": "code",
      "metadata": {
        "id": "EsoeeWwc13WL"
      },
      "source": [
        "def three_link_forward_kinematics(theta1, theta2, theta3):\n",
        "    x = (np.cos(theta1)*l1)+(np.cos(theta1+theta2)*l2)+(np.cos(theta1+theta2+theta3)*l3)\n",
        "    y = (np.sin(theta1)*l1)+(np.sin(theta1+theta2)*l2)+(np.sin(theta1+theta2+theta3)*l3)\n",
        "\n",
        "    return x, y"
      ],
      "execution_count": 15,
      "outputs": []
    },
    {
      "cell_type": "code",
      "metadata": {
        "id": "yYRuloK73Y6c"
      },
      "source": [
        "iiitm_data = pd.read_csv('iiitm.csv')\n",
        "iiitm_predictions = model.predict(iiitm_data.values)\n",
        "x_predictions, y_predictions = three_link_forward_kinematics(iiitm_predictions[:,0], iiitm_predictions[:,1], iiitm_predictions[:,2])"
      ],
      "execution_count": 16,
      "outputs": []
    },
    {
      "cell_type": "code",
      "metadata": {
        "colab": {
          "base_uri": "https://localhost:8080/",
          "height": 761
        },
        "id": "edjJg7aM4OIu",
        "outputId": "10193239-11d5-432a-c7ce-998358555f7b"
      },
      "source": [
        "# Original\n",
        "plt.plot(iiitm_data['x'], iiitm_data['y'], 'go')\n",
        "plt.show()\n",
        "\n",
        "# Predicted\n",
        "plt.plot(x_predictions, y_predictions, 'bo')\n",
        "plt.show()\n",
        "\n",
        "# Original and Predicted\n",
        "plt.plot(iiitm_data['x'], iiitm_data['y'], 'go')\n",
        "plt.plot(x_predictions, y_predictions, 'bo')\n",
        "plt.show()"
      ],
      "execution_count": 17,
      "outputs": [
        {
          "output_type": "display_data",
          "data": {
            "image/png": "[encoded data removed]",
            "text/plain": [
              "<Figure size 432x288 with 1 Axes>"
            ]
          },
          "metadata": {
            "tags": [],
            "needs_background": "light"
          }
        },
        {
          "output_type": "display_data",
          "data": {
            "image/png": "[encoded data removed]",
            "text/plain": [
              "<Figure size 432x288 with 1 Axes>"
            ]
          },
          "metadata": {
            "tags": [],
            "needs_background": "light"
          }
        },
        {
          "output_type": "display_data",
          "data": {
            "image/png": "[encoded data removed]",
            "text/plain": [
              "<Figure size 432x288 with 1 Axes>"
            ]
          },
          "metadata": {
            "tags": [],
            "needs_background": "light"
          }
        }
      ]
    },
    {
      "cell_type": "code",
      "metadata": {
        "id": "055LKJOhsCNF"
      },
      "source": [
        "def aniket_dataset():\n",
        "    rows = []\n",
        "\n",
        "    # for A\n",
        "    arr = np.linspace(5, 7, 100)\n",
        "    for y in arr:\n",
        "        x = (y+7)/2\n",
        "        theta = math.degrees(math.atan(y/x))\n",
        "        rows.append([x, y, theta])\n",
        "\n",
        "    arr = np.linspace(5, 7, 100)\n",
        "    for y in arr:\n",
        "        x = (-y+21)/2\n",
        "        theta = math.degrees(math.atan(y/x))\n",
        "        rows.append([x, y, theta])\n",
        "\n",
        "    arr = np.linspace(6.5, 7.5, 50)\n",
        "    for x in arr:\n",
        "        y = 6\n",
        "        theta = math.degrees(math.atan(y/x))\n",
        "        rows.append([x, y, theta])\n",
        "\n",
        "    # for N\n",
        "    arr = np.linspace(5, 7, 100)\n",
        "    for y in arr:\n",
        "        x = 9\n",
        "        theta = math.degrees(math.atan(y/x))\n",
        "        rows.append([x, y, theta])\n",
        "\n",
        "    arr = np.linspace(5, 7, 100)\n",
        "    for y in arr:\n",
        "        x = (-y+25)/2\n",
        "        theta = math.degrees(math.atan(y/x))\n",
        "        rows.append([x, y, theta])\n",
        "\n",
        "    arr = np.linspace(5, 7, 100)\n",
        "    for y in arr:\n",
        "        x = 10\n",
        "        theta = math.degrees(math.atan(y/x))\n",
        "        rows.append([x, y, theta])\n",
        "\n",
        "    # for I\n",
        "    arr = np.linspace(5, 7, 100)\n",
        "    for y in arr:\n",
        "        x = 11\n",
        "        theta = math.degrees(math.atan(y/x))\n",
        "        rows.append([x, y, theta])\n",
        "\n",
        "    # for K\n",
        "    arr = np.linspace(5, 7, 100)\n",
        "    for y in arr:\n",
        "        x = 12\n",
        "        theta = math.degrees(math.atan(y/x))\n",
        "        rows.append([x, y, theta])\n",
        "\n",
        "    arr = np.linspace(5, 6, 100)\n",
        "    for y in arr:\n",
        "        x = -y+18\n",
        "        theta = math.degrees(math.atan(y/x))\n",
        "        rows.append([x, y, theta])\n",
        "\n",
        "    arr = np.linspace(6, 7, 100)\n",
        "    for y in arr:\n",
        "        x = y+6\n",
        "        theta = math.degrees(math.atan(y/x))\n",
        "        rows.append([x, y, theta])\n",
        "\n",
        "    # for E\n",
        "    arr = np.linspace(5, 7, 100)\n",
        "    for y in arr:\n",
        "        x = 14\n",
        "        theta = math.degrees(math.atan(y/x))\n",
        "        rows.append([x, y, theta])\n",
        "\n",
        "    arr = np.linspace(14, 15, 100)\n",
        "    for x in arr:\n",
        "        y = 5\n",
        "        theta = math.degrees(math.atan(y/x))\n",
        "        rows.append([x, y, theta])\n",
        "\n",
        "    arr = np.linspace(14, 15, 100)\n",
        "    for x in arr:\n",
        "        y = 6\n",
        "        theta = math.degrees(math.atan(y/x))\n",
        "        rows.append([x, y, theta])\n",
        "\n",
        "    arr = np.linspace(14, 15, 100)\n",
        "    for x in arr:\n",
        "        y = 7\n",
        "        theta = math.degrees(math.atan(y/x))\n",
        "        rows.append([x, y, theta])\n",
        "\n",
        "    # for T\n",
        "    arr = np.linspace(16, 18, 100)\n",
        "    for x in arr:\n",
        "        y = 7\n",
        "        theta = math.degrees(math.atan(y/x))\n",
        "        rows.append([x, y, theta])\n",
        "\n",
        "    arr = np.linspace(5, 7, 100)\n",
        "    for y in arr:\n",
        "        x = 17\n",
        "        theta = math.degrees(math.atan(y/x))\n",
        "        rows.append([x, y, theta])\n",
        "\n",
        "    df = pd.DataFrame(rows, columns=['x', 'y', 'theta'])\n",
        "    df.to_csv('aniket.csv', index=False)\n",
        "    \n",
        "aniket_dataset()"
      ],
      "execution_count": 18,
      "outputs": []
    },
    {
      "cell_type": "code",
      "metadata": {
        "id": "moGh8eDIuADi"
      },
      "source": [
        "aniket_data = pd.read_csv('aniket.csv')\n",
        "aniket_predictions = model.predict(aniket_data.values)\n",
        "x_predictions, y_predictions = three_link_forward_kinematics(aniket_predictions[:,0], aniket_predictions[:,1], aniket_predictions[:,2])"
      ],
      "execution_count": 19,
      "outputs": []
    },
    {
      "cell_type": "code",
      "metadata": {
        "colab": {
          "base_uri": "https://localhost:8080/",
          "height": 761
        },
        "id": "0hMZI4QYuTT0",
        "outputId": "e6b8a7c6-abc9-4300-c2f8-f2bb74df9ab2"
      },
      "source": [
        "# Original\n",
        "plt.plot(aniket_data['x'], aniket_data['y'], 'go')\n",
        "plt.show()\n",
        "\n",
        "# Predicted\n",
        "plt.plot(x_predictions, y_predictions, 'bo')\n",
        "plt.show()\n",
        "\n",
        "# Original and Predicted\n",
        "plt.plot(aniket_data['x'], aniket_data['y'], 'go')\n",
        "plt.plot(x_predictions, y_predictions, 'bo')\n",
        "plt.show()"
      ],
      "execution_count": 20,
      "outputs": [
        {
          "output_type": "display_data",
          "data": {
            "image/png": "[encoded data removed]",
            "text/plain": [
              "<Figure size 432x288 with 1 Axes>"
            ]
          },
          "metadata": {
            "tags": [],
            "needs_background": "light"
          }
        },
        {
          "output_type": "display_data",
          "data": {
            "image/png": "[encoded data removed]",
            "text/plain": [
              "<Figure size 432x288 with 1 Axes>"
            ]
          },
          "metadata": {
            "tags": [],
            "needs_background": "light"
          }
        },
        {
          "output_type": "display_data",
          "data": {
            "image/png": "[encoded data removed]",
            "text/plain": [
              "<Figure size 432x288 with 1 Axes>"
            ]
          },
          "metadata": {
            "tags": [],
            "needs_background": "light"
          }
        }
      ]
    }
  ]
}